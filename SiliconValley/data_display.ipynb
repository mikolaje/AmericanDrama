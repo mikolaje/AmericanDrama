{
 "cells": [
  {
   "cell_type": "code",
   "execution_count": 4,
   "metadata": {
    "collapsed": true
   },
   "outputs": [],
   "source": [
    "from collections import Counter\n",
    "import numpy as np\n",
    "import seaborn as sns\n",
    "import pandas as pd\n",
    "from nltk import ngrams\n",
    "import nltk\n",
    "from nltk.corpus import stopwords\n",
    "# nltk.download('words')\n",
    "# nltk.download('stopwords')\n",
    "stopwords = stopwords.words('english')\n",
    "import io\n",
    "import spacy\n",
    "#nlp = spacy.load('en', disable=['parser'])\n",
    "nlp = spacy.load('en')\n",
    "\n",
    "\n",
    "\n",
    "import matplotlib.pyplot as plt\n",
    "%matplotlib inline"
   ]
  },
  {
   "cell_type": "markdown",
   "metadata": {},
   "source": [
    "### Tokenize the text using Spacy"
   ]
  },
  {
   "cell_type": "code",
   "execution_count": 5,
   "metadata": {},
   "outputs": [],
   "source": [
    "def get_words_list_season(season):\n",
    "    token_list = []\n",
    "    with io.open(r'SiliconValley/filtered_subtitles/S%s/S%s_all.txt' % (season, season), 'r', encoding='u8') as f:\n",
    "        for line in f:\n",
    "            doc = nlp(line)\n",
    "            for token in doc:\n",
    "                token_list.append(token)\n",
    "    return token_list\n",
    "                \n",
    "token_list_season = get_words_list_season('01')\n",
    "            \n",
    "    "
   ]
  },
  {
   "cell_type": "markdown",
   "metadata": {},
   "source": [
    "filter the stopwords, filter the punctuation, filter the human name, filter the interjection"
   ]
  },
  {
   "cell_type": "code",
   "execution_count": 22,
   "metadata": {
    "collapsed": false
   },
   "outputs": [
    {
     "name": "stdout",
     "output_type": "stream",
     "text": [
      "[('know', 228), ('like', 146), ('right', 136), ('pied', 102), ('think', 102), ('guys', 101), ('piper', 101), ('get', 94), ('got', 88), ('go', 87), ('mean', 87), ('one', 82), ('gon', 81), ('na', 81), ('going', 80), ('would', 78), ('really', 77), ('peter', 70), ('could', 70), ('see', 69), ('need', 66), ('company', 64), ('look', 60), ('let', 60), ('good', 58), ('want', 57), ('back', 55), ('time', 52), ('fuck', 51), ('big', 51), ('great', 51), ('ca', 49), ('something', 48), ('fucking', 47), ('dollars', 47), ('even', 47), ('better', 46), ('come', 45), ('guy', 44), ('shit', 43), ('man', 42), ('name', 42), ('make', 41), ('take', 41), ('actually', 41), ('head', 40), ('lot', 40), ('people', 39), ('way', 38), ('maybe', 38)]"
     ]
    },
    {
     "name": "stdout",
     "output_type": "stream",
     "text": [
      "\n"
     ]
    }
   ],
   "source": [
    "name_list = ['richard', 'gavin', 'hooli', 'gregory', 'jared', 'perter', 'erlich', 'dinesh', 'belson', 'monica']\n",
    "\n",
    "words_list = []\n",
    "for token in token_list_season:\n",
    "    lower = token.text.lower()\n",
    "    if token.is_punct == False and token.is_space == False and token.is_digit == False and token.pos_ != 'INTJ':\n",
    "        if lower not in stopwords and \"'\" not in lower and lower not in name_list and token.lemma_ != '-PRON-':\n",
    "            words_list.append(token.text.lower())\n",
    "\n",
    "cnt = Counter(words_list)\n",
    "\n",
    "print(cnt.most_common(50))"
   ]
  },
  {
   "cell_type": "code",
   "execution_count": 20,
   "metadata": {},
   "outputs": [
    {
     "data": {
      "image/png": "[encoded data removed]",
      "text/plain": [
       "<Figure size 432x288 with 1 Axes>"
      ]
     },
     "metadata": {},
     "output_type": "display_data"
    }
   ],
   "source": [
    "def plot_word_count():\n",
    "    topn = 20\n",
    "    cnt = Counter(words_list)\n",
    "    most_common = cnt.most_common(topn)\n",
    "    top_words = [each[0] for each in most_common]\n",
    "    topn_nums = [each[1] for each in most_common]\n",
    "    df = pd.DataFrame(dict(top_words=top_words, topn_nums=topn_nums))\n",
    "    \n",
    " \n",
    "    ax = sns.barplot(x=\"topn_nums\", y=\"top_words\", data=df)\n",
    "\n",
    "plot_word_count()"
   ]
  },
  {
   "cell_type": "markdown",
   "metadata": {},
   "source": [
    "### N-grams .\n",
    "first of all, make a list of lists where each internal list is a sentence that is tokenized into words."
   ]
  },
  {
   "cell_type": "code",
   "execution_count": 6,
   "metadata": {},
   "outputs": [],
   "source": [
    "def get_sents_list_season(season):\n",
    "    sents_list = []\n",
    "    with io.open(r'SiliconValley/filtered_subtitles/S%s/S%s_all.txt' % (season, season), 'r', encoding='u8') as f:\n",
    "        for line in f:\n",
    "            doc = nlp(line)\n",
    "            for sent in doc.sents:\n",
    "                sents_list.append(sent)\n",
    "    sents_token_list = []\n",
    "    for sent in sents_list:\n",
    "        token_list = [token for token in sent]\n",
    "        sents_token_list.append(token_list)\n",
    "            \n",
    "            \n",
    "                    \n",
    "    return sents_token_list\n",
    "\n",
    "sents_token_list = get_sents_list_season('01')"
   ]
  },
  {
   "cell_type": "code",
   "execution_count": 7,
   "metadata": {
    "collapsed": false
   },
   "outputs": [
    {
     "name": "stdout",
     "output_type": "stream",
     "text": [
      "[(\"i do n't know\", 34), ('the world a better', 21), ('world a better place', 21), ('making the world a', 19), (\"i 'm gon na\", 19), (\"i do n't think\", 15), (\"i 'm going to\", 11), (\"i do n't want\", 8), (\"do n't want to\", 8), (\"why do n't you\", 7), (\"'re not gon na\", 7), ('always blue always blue', 6), (\"we 're gon na\", 6), (\"do n't have to\", 5), (\"and i do n't\", 5), (\"we 've got a\", 5), (\"yeah i do n't\", 5), (\"i think i 'm\", 5), ('down ten million dollars', 5), (\"i 'm just gon\", 5)]"
     ]
    },
    {
     "name": "stdout",
     "output_type": "stream",
     "text": [
      "\n"
     ]
    }
   ],
   "source": [
    "\n",
    "sentences = [[token.text.lower() for token in sent if token.is_punct==False and token.is_space==False] for sent in sents_token_list]\n",
    "\n",
    "def analyze_ngrams(n):\n",
    "    cnt = Counter()\n",
    "    for sent in sentences:\n",
    "        if len(sent) >= n:\n",
    "            cnt.update(\" \".join(n) for n in ngrams(sent, n))\n",
    "    \n",
    "    print(cnt.most_common(20))\n",
    "    return cnt\n",
    "\n",
    "\n",
    "cnt = analyze_ngrams(4)\n",
    "\n"
   ]
  },
  {
   "cell_type": "code",
   "execution_count": 21,
   "metadata": {
    "collapsed": true
   },
   "outputs": [
    {
     "name": "stdout",
     "output_type": "stream",
     "text": [
      "['know', 'like', 'right', 'pied', 'think', 'guys', 'piper', 'get', 'got', 'go']"
     ]
    },
    {
     "name": "stdout",
     "output_type": "stream",
     "text": [
      "\n"
     ]
    },
    {
     "name": "stdout",
     "output_type": "stream",
     "text": [
      "[228, 146, 136, 102, 102, 101, 101, 94, 88, 87]"
     ]
    },
    {
     "name": "stdout",
     "output_type": "stream",
     "text": [
      "\n"
     ]
    },
    {
     "data": {
      "image/png": "[encoded data removed]",
      "text/plain": [
       "<Figure size 432x288 with 1 Axes>"
      ]
     },
     "metadata": {},
     "output_type": "display_data"
    }
   ],
   "source": [
    "def plot_ngram(N, top_n, cnt):\n",
    "    topn_list = cnt.most_common(top_n)\n",
    "    topn_words = [each[0] for each in topn_list]\n",
    "    print(topn_words)\n",
    "    topn_nums = [each[1] for each in topn_list]\n",
    "    print(topn_nums)\n",
    "    \n",
    "    df = pd.DataFrame(dict(top_words=topn_words, topn_nums=topn_nums))\n",
    "    sns.barplot(x=\"topn_nums\", y=\"top_words\", data=df)\n",
    "\n",
    "    \n",
    "    \n",
    "plot_ngram(3, 10, cnt)"
   ]
  },
  {
   "cell_type": "code",
   "execution_count": 41,
   "metadata": {},
   "outputs": [],
   "source": []
  }
 ],
 "metadata": {
  "kernelspec": {
   "display_name": "Python 2",
   "language": "python",
   "name": "python2"
  },
  "language_info": {
   "codemirror_mode": {
    "name": "ipython",
    "version": 2
   },
   "file_extension": ".py",
   "mimetype": "text/x-python",
   "name": "python",
   "nbconvert_exporter": "python",
   "pygments_lexer": "ipython2",
   "version": "2.7.6"
  }
 },
 "nbformat": 4,
 "nbformat_minor": 0
}
