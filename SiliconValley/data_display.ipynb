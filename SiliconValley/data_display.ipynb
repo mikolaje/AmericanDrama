{
 "cells": [
  {
   "cell_type": "code",
   "execution_count": 2,
   "metadata": {
    "collapsed": true
   },
   "outputs": [],
   "source": [
    "from collections import Counter\n",
    "import numpy as np\n",
    "import seaborn as sns\n",
    "import pandas as pd\n",
    "from nltk import ngrams\n",
    "import nltk\n",
    "from nltk.corpus import stopwords\n",
    "# nltk.download('words')\n",
    "# nltk.download('stopwords')\n",
    "stopwords = stopwords.words('english')\n",
    "import io\n",
    "import spacy\n",
    "#nlp = spacy.load('en', disable=['parser'])\n",
    "nlp = spacy.load('en')\n",
    "\n",
    "\n",
    "\n",
    "import matplotlib.pyplot as plt\n",
    "%matplotlib inline"
   ]
  },
  {
   "cell_type": "markdown",
   "metadata": {},
   "source": [
    "### Tokenize the text using Spacy"
   ]
  },
  {
   "cell_type": "code",
   "execution_count": 3,
   "metadata": {},
   "outputs": [],
   "source": [
    "def get_words_list_season(season):\n",
    "    token_list = []\n",
    "    with io.open(r'SiliconValley/filtered_subtitles/S%s/S%s_all.txt' % (season, season), 'r', encoding='u8') as f:\n",
    "        for line in f:\n",
    "            doc = nlp(line)\n",
    "            for token in doc:\n",
    "                token_list.append(token)\n",
    "    return token_list\n",
    "                \n",
    "token_list_season = get_words_list_season('01')\n",
    "            \n",
    "\n",
    "def get_words_list_all():\n",
    "    all_token_list = []\n",
    "    season_list = [format(i, '02d') for i in range(1, 5)] \n",
    "    for season in season_list:\n",
    "        token_list = get_words_list_season(season)\n",
    "        all_token_list.extend(token_list)\n",
    "    return all_token_list \n",
    "        \n",
    "all_token_list = get_words_list_all()                                             \n",
    "    \n"
   ]
  },
  {
   "cell_type": "markdown",
   "metadata": {},
   "source": [
    "filter the stopwords, filter the punctuation, filter the human name, filter the interjection"
   ]
  },
  {
   "cell_type": "code",
   "execution_count": 4,
   "metadata": {
    "collapsed": false
   },
   "outputs": [
    {
     "name": "stdout",
     "output_type": "stream",
     "text": [
      "[('know', 228), ('like', 146), ('right', 136), ('pied', 102), ('think', 102), ('guys', 101), ('piper', 101), ('get', 94), ('got', 88), ('go', 87), ('mean', 87), ('one', 82), ('gon', 81), ('na', 81), ('going', 80), ('would', 78), ('really', 77), ('peter', 70), ('could', 70), ('see', 69), ('need', 66), ('company', 64), ('look', 60), ('let', 60), ('good', 58), ('want', 57), ('back', 55), ('time', 52), ('fuck', 51), ('big', 51), ('great', 51), ('ca', 49), ('something', 48), ('fucking', 47), ('dollars', 47), ('even', 47), ('better', 46), ('come', 45), ('guy', 44), ('shit', 43), ('man', 42), ('name', 42), ('make', 41), ('take', 41), ('actually', 41), ('head', 40), ('lot', 40), ('people', 39), ('way', 38), ('maybe', 38)]"
     ]
    },
    {
     "name": "stdout",
     "output_type": "stream",
     "text": [
      "\n"
     ]
    }
   ],
   "source": [
    "name_list = ['richard', 'gavin', 'hooli', 'gregory', 'jared', 'perter', 'erlich', 'dinesh', 'belson', 'monica']\n",
    "\n",
    "words_list = []\n",
    "for token in token_list_season:\n",
    "    lower = token.text.lower()\n",
    "    if token.is_punct == False and token.is_space == False and token.is_digit == False and token.pos_ != 'INTJ':\n",
    "        if lower not in stopwords and \"'\" not in lower and lower not in name_list and token.lemma_ != '-PRON-':\n",
    "            words_list.append(token.text.lower())\n",
    "\n",
    "cnt = Counter(words_list)\n",
    "\n",
    "print(cnt.most_common(50))"
   ]
  },
  {
   "cell_type": "code",
   "execution_count": 5,
   "metadata": {},
   "outputs": [
    {
     "data": {
      "image/png": "[encoded data removed]",
      "text/plain": [
       "<Figure size 432x288 with 1 Axes>"
      ]
     },
     "metadata": {},
     "output_type": "display_data"
    }
   ],
   "source": [
    "def plot_word_count():\n",
    "    topn = 20\n",
    "    cnt = Counter(words_list)\n",
    "    most_common = cnt.most_common(topn)\n",
    "    top_words = [each[0] for each in most_common]\n",
    "    topn_nums = [each[1] for each in most_common]\n",
    "    df = pd.DataFrame(dict(top_words=top_words, topn_nums=topn_nums))\n",
    "    \n",
    " \n",
    "    ax = sns.barplot(x=\"topn_nums\", y=\"top_words\", data=df)\n",
    "\n",
    "plot_word_count()"
   ]
  },
  {
   "cell_type": "markdown",
   "metadata": {},
   "source": [
    "### N-grams .\n",
    "first of all, make a list of lists where each internal list is a sentence that is tokenized into words."
   ]
  },
  {
   "cell_type": "code",
   "execution_count": 54,
   "metadata": {
    "collapsed": true
   },
   "outputs": [],
   "source": [
    "def get_sents_list_season(season):\n",
    "    sents_list = []\n",
    "    with io.open(r'SiliconValley/filtered_subtitles/S%s/S%s_all.txt' % (season, season), 'r', encoding='u8') as f:\n",
    "        lines = f.read()\n",
    "        lines = lines.replace('\\n', ' ')\n",
    "        \n",
    "        doc = nlp(lines)\n",
    "        for sent in doc.sents:\n",
    "            #print('each sent', sent)\n",
    "            if len(sent) > 0:\n",
    "                sents_list.append(sent)\n",
    "                \n",
    "    sents_token_list = []\n",
    "    for sent in sents_list:\n",
    "        token_list = [token for token in sent]\n",
    "        sents_token_list.append(token_list)\n",
    "        \n",
    "    return sents_token_list\n",
    "\n",
    "\n",
    "def get_sents_list_all():\n",
    "    sents_token_list_all = []\n",
    "    season_list = [format(i, '02d') for i in range(1, 5)] \n",
    "    for season in season_list:\n",
    "        sents_token_list_season = get_sents_list_season(season)\n",
    "        sents_token_list_all.extend(sents_token_list_season)\n",
    "        \n",
    "    return sents_token_list_all\n",
    "\n",
    "sents_token_list_all = get_sents_list_all()\n",
    "#sents_token_list_season = get_sents_list_season('01')"
   ]
  },
  {
   "cell_type": "code",
   "execution_count": 55,
   "metadata": {
    "collapsed": false
   },
   "outputs": [
    {
     "name": "stdout",
     "output_type": "stream",
     "text": [
      "[(\"i do n't know\", 125), (\"i 'm gon na\", 85), (\"i 'm going to\", 54), (\"i do n't think\", 45), (\"we 're gon na\", 38), (\"you 're gon na\", 38), (\"i do n't want\", 33), (\"do n't want to\", 33), ('what are you doing', 29), ('what do you mean', 28), (\"'re not gon na\", 27), ('world a better place', 24), (\"you 're going to\", 24), (\"do n't have to\", 23), ('the world a better', 23), (\"why do n't you\", 22), (\"i 'd like to\", 21), (\"you do n't have\", 21), (\"i 'm not going\", 21), (\"we 're going to\", 21)]"
     ]
    },
    {
     "name": "stdout",
     "output_type": "stream",
     "text": [
      "\n"
     ]
    }
   ],
   "source": [
    "sents_token_list = sents_token_list_all\n",
    "sentences = [[token.text.lower() for token in sent if token.is_punct==False and token.is_space==False] for sent in sents_token_list]\n",
    "\n",
    "def analyze_ngrams(n):\n",
    "    cnt = Counter()\n",
    "    for sent in sentences:\n",
    "        if len(sent) >= n:\n",
    "            cnt.update(\" \".join(n) for n in ngrams(sent, n))\n",
    "    \n",
    "    print(cnt.most_common(20))\n",
    "    return cnt\n",
    "\n",
    "\n",
    "cnt = analyze_ngrams(4)\n",
    "\n"
   ]
  },
  {
   "cell_type": "code",
   "execution_count": 58,
   "metadata": {
    "collapsed": false
   },
   "outputs": [
    {
     "name": "stdout",
     "output_type": "stream",
     "text": [
      "[(\"i do n't\", 354), (\"do n't know\", 142), (\"i 'm not\", 135), (\"i 'm sorry\", 123), (\"you do n't\", 116), (\"it 's a\", 115), ('you know what', 97), (\"i 'm gon\", 85), (\"'m gon na\", 85), (\"it 's not\", 84), (\"i did n't\", 82), ('what the fuck', 81), (\"'re gon na\", 81), (\"i ca n't\", 80), ('a lot of', 77), ('what do you', 76), (\"you 're not\", 68), (\"do n't think\", 62), (\"it 's just\", 62), ('what are you', 62)]"
     ]
    },
    {
     "name": "stdout",
     "output_type": "stream",
     "text": [
      "\n"
     ]
    },
    {
     "name": "stdout",
     "output_type": "stream",
     "text": [
      "[(\"i do n't\", 354), (\"do n't know\", 142), (\"i 'm not\", 135), (\"i 'm sorry\", 123), (\"you do n't\", 116), (\"it 's a\", 115), ('you know what', 97), (\"i 'm gon\", 85), (\"'m gon na\", 85), (\"it 's not\", 84)]"
     ]
    },
    {
     "name": "stdout",
     "output_type": "stream",
     "text": [
      "\n"
     ]
    },
    {
     "name": "stdout",
     "output_type": "stream",
     "text": [
      "[(\"i do n't know\", 125), (\"i 'm gon na\", 85), (\"i 'm going to\", 54), (\"i do n't think\", 45), (\"we 're gon na\", 38), (\"you 're gon na\", 38), (\"i do n't want\", 33), (\"do n't want to\", 33), ('what are you doing', 29), ('what do you mean', 28), (\"'re not gon na\", 27), ('world a better place', 24), (\"you 're going to\", 24), (\"do n't have to\", 23), ('the world a better', 23), (\"why do n't you\", 22), (\"i 'd like to\", 21), (\"you do n't have\", 21), (\"i 'm not going\", 21), (\"we 're going to\", 21)]"
     ]
    },
    {
     "name": "stdout",
     "output_type": "stream",
     "text": [
      "\n"
     ]
    },
    {
     "name": "stdout",
     "output_type": "stream",
     "text": [
      "[(\"i do n't know\", 125), (\"i 'm gon na\", 85), (\"i 'm going to\", 54), (\"i do n't think\", 45), (\"we 're gon na\", 38), (\"you 're gon na\", 38), (\"i do n't want\", 33), (\"do n't want to\", 33), ('what are you doing', 29), ('what do you mean', 28)]"
     ]
    },
    {
     "name": "stdout",
     "output_type": "stream",
     "text": [
      "\n"
     ]
    },
    {
     "data": {
      "image/png": "[encoded data removed]",
      "text/plain": [
       "<Figure size 432x288 with 1 Axes>"
      ]
     },
     "metadata": {},
     "output_type": "display_data"
    }
   ],
   "source": [
    "\n",
    "def plot_ngram(N, top_n):\n",
    "    cnt = analyze_ngrams(N)\n",
    "    topn_list = cnt.most_common(top_n)\n",
    "    topn_words = [each[0] for each in topn_list]\n",
    "    print(topn_list)\n",
    "    topn_nums = [each[1] for each in topn_list]\n",
    "    # print(topn_nums)\n",
    "    \n",
    "    df = pd.DataFrame(dict(top_words=topn_words, topn_nums=topn_nums))\n",
    "    sns.barplot(x=\"topn_nums\", y=\"top_words\", data=df)\n",
    "\n",
    "    \n",
    "    \n",
    "plot_ngram(3, 10)\n",
    "plot_ngram(4, 10)"
   ]
  },
  {
   "cell_type": "markdown",
   "metadata": {},
   "source": [
    "### Sentence length."
   ]
  },
  {
   "cell_type": "code",
   "execution_count": 61,
   "metadata": {
    "collapsed": true
   },
   "outputs": [
    {
     "name": "stdout",
     "output_type": "stream",
     "text": [
      "below is the sentences that has more than 45 words"
     ]
    },
    {
     "name": "stdout",
     "output_type": "stream",
     "text": [
      "\n"
     ]
    },
    {
     "name": "stdout",
     "output_type": "stream",
     "text": [
      "look when it blows up and it will once it reaches a critical mass of users pied piper will be able to search the whole world of recorded music to find out if there 's a match to see if you 're infringing on any copy righted material"
     ]
    },
    {
     "name": "stdout",
     "output_type": "stream",
     "text": [
      "\n"
     ]
    },
    {
     "name": "stdout",
     "output_type": "stream",
     "text": [
      "you know if a guy 's dick was long enough it would be able to reach up or down to another guy with a different d2f. the longer the dick the greater the d2f bridge but i would still be able to jerk it off in one smooth motion"
     ]
    },
    {
     "name": "stdout",
     "output_type": "stream",
     "text": [
      "\n"
     ]
    },
    {
     "name": "stdout",
     "output_type": "stream",
     "text": [
      "peter used to say that every successful company could look back at a defining moment early on where they would have died had it not been for the-- the courage and the tenacity and maybe the insanity of one visionary person who put it all on the line even though it seemed like a huge mistake at the time"
     ]
    },
    {
     "name": "stdout",
     "output_type": "stream",
     "text": [
      "\n"
     ]
    },
    {
     "name": "stdout",
     "output_type": "stream",
     "text": [
      "'cause you know i want to have cunty come visit me for lunch and if i ca n't call cunty cunty then it 's like i 'm not going to want to have cunty over at all which i feel like kind of violates my rights--"
     ]
    },
    {
     "name": "stdout",
     "output_type": "stream",
     "text": [
      "\n"
     ]
    },
    {
     "name": "stdout",
     "output_type": "stream",
     "text": [
      "my feeling is if you 're the ceo of a company and you 're dumb enough to leave your login info on a post it note on your desk while the people that you fucking ripped off are physically in your office it 's not a hack"
     ]
    },
    {
     "name": "stdout",
     "output_type": "stream",
     "text": [
      "\n"
     ]
    },
    {
     "name": "stdout",
     "output_type": "stream",
     "text": [
      "which is why i had no recourse but to rule that since mr. hendricks by his own admission used hooli equipment to facilitate the development of pied piper then pursuant to california labor code hooli has a right to ownership of pied piper 's underlying ip"
     ]
    },
    {
     "name": "stdout",
     "output_type": "stream",
     "text": [
      "\n"
     ]
    },
    {
     "name": "stdout",
     "output_type": "stream",
     "text": [
      "and i probably ca n't say how fucking pissed off i am that laurie bream is out there gallivanting around the valley interviewing every dickhole on earth for my job including big head-- a man that i fired by the way and no offense i like him"
     ]
    },
    {
     "name": "stdout",
     "output_type": "stream",
     "text": [
      "\n"
     ]
    },
    {
     "name": "stdout",
     "output_type": "stream",
     "text": [
      "so you are going to go in your little fucking piggy bank right now and pay back every fucking kopeck that you stole from big head and if you do n't we 're gon na take our little show on the road perhaps perform it for a man named the d.a. ridiculous"
     ]
    },
    {
     "name": "stdout",
     "output_type": "stream",
     "text": [
      "\n"
     ]
    },
    {
     "name": "stdout",
     "output_type": "stream",
     "text": [
      "so if it makes any difference i 'd like to vie for a lesser sentence if after he makes full restitution he would write a very convincing public apology preferably-- mr. bachmann an action like this is very expensive and time consuming and as you 've already pointed out even if you do prevail the money is gone unless you win a court order allowing you to raid other innocent people 's bank accounts and that 's a tough sell even for a plaintiff who 's more uh sympathetic"
     ]
    },
    {
     "name": "stdout",
     "output_type": "stream",
     "text": [
      "\n"
     ]
    },
    {
     "name": "stdout",
     "output_type": "stream",
     "text": [
      "i see two able bodied entitled young white men who lucked into more money than most people see in five lifetimes and who if they had n't had their millions stolen would have promptly squandered them on more things like relocated swimming pools and lost tiki heads"
     ]
    },
    {
     "name": "stdout",
     "output_type": "stream",
     "text": [
      "\n"
     ]
    },
    {
     "name": "stdout",
     "output_type": "stream",
     "text": [
      "okay so i just spoke with my friend who runs a market research firm she 's gon na set up a focus group for the platform put it in the hands of some real users and hopefully it 'll be super obvious what 's going wrong"
     ]
    },
    {
     "name": "stdout",
     "output_type": "stream",
     "text": [
      "\n"
     ]
    }
   ],
   "source": [
    "import numpy as np\n",
    "\n",
    "\n",
    "length_list = [len(s) for s in sentences]\n",
    "df = pd.DataFrame(dict(length=length_list, sentence=sentences))\n",
    "long_sents = list(df[df.length > 45].sentence)\n",
    "\n",
    "print('below is the sentences that has more than 45 words')\n",
    "for s in long_sents:\n",
    "    print(' '.join(s))\n",
    "    \n",
    "print('words of the loggest sentence: %s' % max(length_list))\n",
    "print('words of the average sentence: %s' % np.mean(length_list))\n",
    "\n",
    "\n",
    "\n",
    "\n",
    "\n",
    "\n"
   ]
  },
  {
   "cell_type": "code",
   "execution_count": 10,
   "metadata": {},
   "outputs": [],
   "source": []
  }
 ],
 "metadata": {
  "kernelspec": {
   "display_name": "Python 2",
   "language": "python",
   "name": "python2"
  },
  "language_info": {
   "codemirror_mode": {
    "name": "ipython",
    "version": 2
   },
   "file_extension": ".py",
   "mimetype": "text/x-python",
   "name": "python",
   "nbconvert_exporter": "python",
   "pygments_lexer": "ipython2",
   "version": "2.7.6"
  }
 },
 "nbformat": 4,
 "nbformat_minor": 0
}
