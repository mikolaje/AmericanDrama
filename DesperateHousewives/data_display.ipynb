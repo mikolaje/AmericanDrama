{
 "cells": [
  {
   "cell_type": "code",
   "execution_count": 1,
   "metadata": {},
   "outputs": [],
   "source": [
    "from collections import Counter\n",
    "import numpy as np\n",
    "import seaborn as sns\n",
    "import pandas as pd\n",
    "from nltk import ngrams\n",
    "import nltk\n",
    "#nltk.download('words')\n",
    "import io\n",
    "import spacy\n",
    "nlp = spacy.load('en')\n",
    "\n",
    "import matplotlib.pyplot as plt\n",
    "%matplotlib inline"
   ]
  },
  {
   "cell_type": "markdown",
   "metadata": {},
   "source": [
    "### sum up the numbers of vocabulary "
   ]
  },
  {
   "cell_type": "code",
   "execution_count": 3,
   "metadata": {},
   "outputs": [],
   "source": [
    "def get_words_list_season(season):\n",
    "    token_list = []\n",
    "    with io.open(r'filtered_subtitles/S%s/S%s_all.txt' % (season, season), 'r', encoding='u8') as f:\n",
    "        text = f.read()\n",
    "        doc = nlp(text)\n",
    "        for token in doc:\n",
    "            token_list.append(token)\n",
    "    return token_list\n",
    "\n",
    "\n",
    "def get_words_list_all():\n",
    "    all_token_list = []\n",
    "    season_list = [format(i, '02d') for i in range(1, 9)] \n",
    "    for season in season_list:\n",
    "        token_list = get_words_list_season(season)\n",
    "        all_token_list.extend(token_list)\n",
    "    return all_token_list \n",
    "\n",
    "#get_words_list_season('01')\n",
    "all_token_list = get_words_list_all()"
   ]
  },
  {
   "cell_type": "code",
   "execution_count": null,
   "metadata": {},
   "outputs": [],
   "source": []
  },
  {
   "cell_type": "markdown",
   "metadata": {},
   "source": [
    "### sum up the numbers of vocabulary "
   ]
  },
  {
   "cell_type": "code",
   "execution_count": 4,
   "metadata": {},
   "outputs": [
    {
     "name": "stdout",
     "output_type": "stream",
     "text": [
      "numbers of vocabulary in subtitle: 11305\n"
     ]
    }
   ],
   "source": [
    "words_list = []\n",
    "english_vocab = set(w.lower() for w in nltk.corpus.words.words())\n",
    "\n",
    "for token in all_token_list:\n",
    "    if token.is_punct == False and token.is_space == False and token.is_digit == False:\n",
    "\n",
    "        if token.text.lower() in english_vocab:\n",
    "            words_list.append(token.text.lower())\n",
    "\n",
    "\n",
    "\n",
    "print('numbers of vocabulary in subtitle: %s' % len(set(words_list)))\n"
   ]
  },
  {
   "cell_type": "markdown",
   "metadata": {},
   "source": [
    "### word count"
   ]
  },
  {
   "cell_type": "code",
   "execution_count": 7,
   "metadata": {},
   "outputs": [
    {
     "data": {
      "image/png": "[encoded data removed]",
      "text/plain": [
       "<Figure size 432x288 with 1 Axes>"
      ]
     },
     "metadata": {
      "needs_background": "light"
     },
     "output_type": "display_data"
    }
   ],
   "source": [
    "topn = 20\n",
    "cnt = Counter(words_list)\n",
    "most_common = cnt.most_common(topn)\n",
    "top_words = [each[0] for each in most_common]\n",
    "topn_nums = [each[1] for each in most_common]\n",
    "df = pd.DataFrame(dict(top_words=top_words, topn_nums=topn_nums))\n",
    "\n",
    "\n",
    "ax = sns.barplot(x=\"topn_nums\", y=\"top_words\", data=df)\n"
   ]
  },
  {
   "cell_type": "code",
   "execution_count": 9,
   "metadata": {},
   "outputs": [],
   "source": [
    "def get_sents_list_season(season):\n",
    "    sents_list = []\n",
    "    with io.open(r'filtered_subtitles/S%s/S%s_all.txt' % (season, season), 'r', encoding='u8') as f:\n",
    "        lines = f.read()\n",
    "        lines = lines.replace('\\n', ' ')\n",
    "        \n",
    "        doc = nlp(lines)\n",
    "        for sent in doc.sents:\n",
    "            #print('each sent', sent)\n",
    "            if len(sent) > 0:\n",
    "                sents_list.append(sent)\n",
    "                \n",
    "    sents_token_list = []\n",
    "    for sent in sents_list:\n",
    "        token_list = [token for token in sent]\n",
    "        sents_token_list.append(token_list)\n",
    "        \n",
    "    return sents_token_list\n",
    "\n",
    "\n",
    "def get_sents_list_all():\n",
    "    sents_token_list_all = []\n",
    "    season_list = [format(i, '02d') for i in range(1, 11)] \n",
    "    for season in season_list:\n",
    "        sents_token_list_season = get_sents_list_season(season)\n",
    "        sents_token_list_all.extend(sents_token_list_season)\n",
    "        \n",
    "    return sents_token_list_all\n",
    "\n",
    "#sents_token_list_all = get_sents_list_all()\n",
    "sents_token_list_season = get_sents_list_season('01')"
   ]
  },
  {
   "cell_type": "markdown",
   "metadata": {},
   "source": [
    "### N-grams"
   ]
  },
  {
   "cell_type": "code",
   "execution_count": 10,
   "metadata": {},
   "outputs": [],
   "source": [
    "sents_token_list = sents_token_list_season\n",
    "sentences = [[token.text.lower() for token in sent if token.is_punct==False and token.is_space==False] for sent in sents_token_list]\n",
    "\n",
    "\n",
    "def analyze_ngrams(n, sentences):\n",
    "    cnt = Counter()\n",
    "    for sent in sentences:\n",
    "        if len(sent) >= n:\n",
    "            cnt.update(\" \".join(n) for n in ngrams(sent, n))\n",
    "    \n",
    "    return cnt"
   ]
  },
  {
   "cell_type": "code",
   "execution_count": null,
   "metadata": {},
   "outputs": [],
   "source": []
  },
  {
   "cell_type": "code",
   "execution_count": 12,
   "metadata": {},
   "outputs": [
    {
     "name": "stdout",
     "output_type": "stream",
     "text": [
      "[(\"i do n't\", 335), (\"i 'm not\", 157), (\"i 'm going\", 147), (\"'m going to\", 138), (\"do n't know\", 124), (\"i 'm sorry\", 118), (\"i ca n't\", 112), (\"you do n't\", 96), (\"'re going to\", 93), ('what are you', 91), (\"it 's not\", 79), (\"do n't want\", 78), ('are you doing', 72), ('you want to', 70), ('going to be', 68), (\"i did n't\", 68), (\"it 's a\", 65), (\"you 're going\", 65), (\"you 're not\", 64), (\"n't want to\", 63)]\n",
      "[(\"i 'm going to\", 138), (\"i do n't know\", 107), ('what are you doing', 65), (\"you 're going to\", 59), (\"i do n't want\", 57), (\"do n't want to\", 52), (\"i do n't think\", 38), ('going to have to', 30), ('are you doing here', 28), (\"i 'm so sorry\", 27), (\"i 'm not going\", 26), (\"we 're going to\", 26), (\"what 's going on\", 25), ('are you going to', 23), (\"and i do n't\", 22), (\"why do n't you\", 22), (\"do n't know what\", 21), ('you want me to', 21), (\"'m not going to\", 20), (\"'m going to go\", 20)]\n"
     ]
    },
    {
     "data": {
      "image/png": "[encoded data removed]",
      "text/plain": [
       "<Figure size 432x288 with 1 Axes>"
      ]
     },
     "metadata": {
      "needs_background": "light"
     },
     "output_type": "display_data"
    }
   ],
   "source": [
    "def plot_ngram(N, top_n):\n",
    "    cnt = analyze_ngrams(N, sentences)\n",
    "    topn_list = cnt.most_common(top_n)\n",
    "    topn_words = [each[0] for each in topn_list]\n",
    "    print(topn_list)\n",
    "    topn_nums = [each[1] for each in topn_list]\n",
    "    # print(topn_nums)\n",
    "    \n",
    "    df = pd.DataFrame(dict(top_words=topn_words, topn_nums=topn_nums))\n",
    "    g = sns.barplot(x=\"topn_nums\", y=\"top_words\", data=df)\n",
    "    g.set_title('top %s %s grams' % (top_n, N))\n",
    "    \n",
    "    \n",
    "plot_ngram(3, 20)\n",
    "plot_ngram(4, 20)"
   ]
  },
  {
   "cell_type": "code",
   "execution_count": null,
   "metadata": {},
   "outputs": [],
   "source": []
  }
 ],
 "metadata": {
  "kernelspec": {
   "display_name": "Python 3",
   "language": "python",
   "name": "python3"
  },
  "language_info": {
   "codemirror_mode": {
    "name": "ipython",
    "version": 3
   },
   "file_extension": ".py",
   "mimetype": "text/x-python",
   "name": "python",
   "nbconvert_exporter": "python",
   "pygments_lexer": "ipython3",
   "version": "3.7.0"
  }
 },
 "nbformat": 4,
 "nbformat_minor": 1
}
