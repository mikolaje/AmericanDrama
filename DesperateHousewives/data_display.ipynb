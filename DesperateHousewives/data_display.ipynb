{
 "cells": [
  {
   "cell_type": "code",
   "execution_count": 1,
   "metadata": {
    "collapsed": true
   },
   "outputs": [],
   "source": [
    "from collections import Counter\n",
    "import numpy as np\n",
    "import seaborn as sns\n",
    "import pandas as pd\n",
    "from nltk import ngrams\n",
    "import nltk\n",
    "#nltk.download('words')\n",
    "import io\n",
    "import spacy\n",
    "nlp = spacy.load('en')\n",
    "\n",
    "import matplotlib.pyplot as plt\n",
    "%matplotlib inline"
   ]
  },
  {
   "cell_type": "markdown",
   "metadata": {},
   "source": [
    "### sum up the numbers of vocabulary "
   ]
  },
  {
   "cell_type": "code",
   "execution_count": null,
   "metadata": {
    "collapsed": true
   },
   "outputs": [],
   "source": [
    "def get_words_list_season(season):\n",
    "    token_list = []\n",
    "    with io.open(r'DesperateHousewives/filtered_subtitles/S%s/S%s_all.txt' % (season, season), 'r', encoding='u8') as f:\n",
    "        text = f.read()\n",
    "        doc = nlp(text)\n",
    "        for token in doc:\n",
    "            token_list.append(token)\n",
    "    return token_list\n",
    "\n",
    "\n",
    "def get_words_list_all():\n",
    "    all_token_list = []\n",
    "    season_list = [format(i, '02d') for i in range(1, 9)] \n",
    "    for season in season_list:\n",
    "        token_list = get_words_list_season(season)\n",
    "        all_token_list.extend(token_list)\n",
    "    return all_token_list \n",
    "\n",
    "all_token_list = get_words_list_all()"
   ]
  },
  {
   "cell_type": "code",
   "execution_count": null,
   "metadata": {},
   "outputs": [],
   "source": []
  },
  {
   "cell_type": "markdown",
   "metadata": {},
   "source": [
    "### sum up the numbers of vocabulary "
   ]
  },
  {
   "cell_type": "code",
   "execution_count": 9,
   "metadata": {
    "collapsed": true
   },
   "outputs": [
    {
     "name": "stdout",
     "output_type": "stream",
     "text": [
      "numbers of vocabulary in subtitle: 2892"
     ]
    },
    {
     "name": "stdout",
     "output_type": "stream",
     "text": [
      "\n"
     ]
    }
   ],
   "source": [
    "words_list = []\n",
    "english_vocab = set(w.lower() for w in nltk.corpus.words.words())\n",
    "\n",
    "for token in all_token_list:\n",
    "    if token.is_punct == False and token.is_space == False and token.is_digit == False:\n",
    "\n",
    "        if token.text.lower() in english_vocab:\n",
    "            words_list.append(token.text.lower())\n",
    "\n",
    "\n",
    "\n",
    "print('numbers of vocabulary in subtitle: %s' % len(set(words_list)))\n"
   ]
  },
  {
   "cell_type": "code",
   "execution_count": null,
   "metadata": {},
   "outputs": [],
   "source": []
  },
  {
   "cell_type": "code",
   "execution_count": null,
   "metadata": {},
   "outputs": [],
   "source": []
  }
 ],
 "metadata": {
  "kernelspec": {
   "display_name": "Python 2",
   "language": "python",
   "name": "python2"
  },
  "language_info": {
   "codemirror_mode": {
    "name": "ipython",
    "version": 2
   },
   "file_extension": ".py",
   "mimetype": "text/x-python",
   "name": "python",
   "nbconvert_exporter": "python",
   "pygments_lexer": "ipython2",
   "version": "2.7.6"
  }
 },
 "nbformat": 4,
 "nbformat_minor": 0
}
