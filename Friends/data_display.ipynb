{
 "cells": [
  {
   "cell_type": "code",
   "execution_count": 2,
   "metadata": {
    "collapsed": true
   },
   "outputs": [],
   "source": [
    "from collections import Counter\n",
    "import numpy as np\n",
    "import seaborn as sns\n",
    "import pandas as pd\n",
    "from nltk import ngrams\n",
    "import nltk\n",
    "#nltk.download('words')\n",
    "import io\n",
    "import spacy\n",
    "nlp = spacy.load('en')\n",
    "\n",
    "import matplotlib.pyplot as plt\n",
    "%matplotlib inline\n",
    "\n"
   ]
  },
  {
   "cell_type": "markdown",
   "metadata": {},
   "source": [
    "### Tokenize the text using NLTK and Spacy"
   ]
  },
  {
   "cell_type": "code",
   "execution_count": 3,
   "metadata": {
    "collapsed": true
   },
   "outputs": [],
   "source": [
    "def get_words_list_season(season):\n",
    "    token_list = []\n",
    "    with io.open(r'Friends/filtered_subtitles/S%s/S%s_en_all.txt' % (season, season), 'r', encoding='u8') as f:\n",
    "        text = f.read()\n",
    "        doc = nlp(text)\n",
    "        for token in doc:\n",
    "            token_list.append(token)\n",
    "    return token_list\n",
    "\n",
    "\n",
    "def get_words_list_all():\n",
    "    all_token_list = []\n",
    "    season_list = [format(i, '02d') for i in range(1, 11)]     \n",
    "    for season in season_list:\n",
    "        token_list = get_words_list_season(season)\n",
    "        all_token_list.extend(token_list)\n",
    "    return all_token_list\n",
    "\n",
    "# get_words_list_season('01')\n",
    "all_token_list = get_words_list_all()"
   ]
  },
  {
   "cell_type": "markdown",
   "metadata": {},
   "source": [
    "### sum up the numbers of vocabulary "
   ]
  },
  {
   "cell_type": "code",
   "execution_count": 4,
   "metadata": {
    "collapsed": true
   },
   "outputs": [
    {
     "name": "stdout",
     "output_type": "stream",
     "text": [
      "numbers of vocabulary in subtitle: 8796\n"
     ]
    }
   ],
   "source": [
    "\n",
    "words_list = []\n",
    "english_vocab = set(w.lower() for w in nltk.corpus.words.words())\n",
    "\n",
    "for token in all_token_list:\n",
    "    if token.is_punct == False and token.is_space == False and token.is_digit == False:\n",
    "\n",
    "        if token.text.lower() in english_vocab:\n",
    "            words_list.append(token.text.lower())\n",
    "\n",
    "\n",
    "\n",
    "print('numbers of vocabulary in subtitle: %s'%len(set(words_list)))\n",
    "#print(sorted(set(words_list)))\n",
    "    "
   ]
  },
  {
   "cell_type": "markdown",
   "metadata": {},
   "source": [
    "### word count"
   ]
  },
  {
   "cell_type": "code",
   "execution_count": 7,
   "metadata": {
    "collapsed": true
   },
   "outputs": [
    {
     "data": {
      "image/png": "[encoded data removed]",
      "text/plain": [
       "<Figure size 432x288 with 1 Axes>"
      ]
     },
     "metadata": {},
     "output_type": "display_data"
    }
   ],
   "source": [
    "topn = 20\n",
    "cnt = Counter(words_list)\n",
    "most_common = cnt.most_common(topn)\n",
    "top_words = [each[0] for each in most_common]\n",
    "topn_nums = [each[1] for each in most_common]\n",
    "df = pd.DataFrame(dict(top_words=top_words, topn_nums=topn_nums))\n",
    "\n",
    "\n",
    "ax = sns.barplot(x=\"topn_nums\", y=\"top_words\", data=df)\n",
    "\n"
   ]
  },
  {
   "cell_type": "code",
   "execution_count": 17,
   "metadata": {},
   "outputs": [],
   "source": [
    "def get_sents_list_season(season):\n",
    "    sents_list = []\n",
    "    with io.open(r'Friends/filtered_subtitles/S%s/S%s_en_all.txt' % (season, season), 'r', encoding='u8') as f:\n",
    "        lines = f.read()\n",
    "        lines = lines.replace('\\n', ' ')\n",
    "        \n",
    "        doc = nlp(lines)\n",
    "        for sent in doc.sents:\n",
    "            #print('each sent', sent)\n",
    "            if len(sent) > 0:\n",
    "                sents_list.append(sent)\n",
    "                \n",
    "    sents_token_list = []\n",
    "    for sent in sents_list:\n",
    "        token_list = [token for token in sent]\n",
    "        sents_token_list.append(token_list)\n",
    "        \n",
    "    return sents_token_list\n",
    "\n",
    "\n",
    "def get_sents_list_all():\n",
    "    sents_token_list_all = []\n",
    "    season_list = [format(i, '02d') for i in range(1, 11)] \n",
    "    for season in season_list:\n",
    "        sents_token_list_season = get_sents_list_season(season)\n",
    "        sents_token_list_all.extend(sents_token_list_season)\n",
    "        \n",
    "    return sents_token_list_all\n",
    "\n",
    "#sents_token_list_all = get_sents_list_all()\n",
    "sents_token_list_season = get_sents_list_season('01')"
   ]
  },
  {
   "cell_type": "markdown",
   "metadata": {},
   "source": [
    "### N-grams"
   ]
  },
  {
   "cell_type": "code",
   "execution_count": 19,
   "metadata": {
    "collapsed": true
   },
   "outputs": [],
   "source": [
    "sents_token_list = sents_token_list_season\n",
    "sentences = [[token.text.lower() for token in sent if token.is_punct==False and token.is_space==False] for sent in sents_token_list]\n",
    "\n",
    "\n",
    "def analyze_ngrams(n, sentences):\n",
    "    cnt = Counter()\n",
    "    for sent in sentences:\n",
    "        if len(sent) >= n:\n",
    "            cnt.update(\" \".join(n) for n in ngrams(sent, n))\n",
    "    \n",
    "    return cnt"
   ]
  },
  {
   "cell_type": "markdown",
   "metadata": {},
   "source": [
    "### drawing N-Gram plot by matplotlib\n",
    "from the output result ,we can see that the most frequently phrase used in subtitle are \"oh my god\", \"what are you doing\", \"I don't know\" etc."
   ]
  },
  {
   "cell_type": "code",
   "execution_count": 21,
   "metadata": {},
   "outputs": [
    {
     "name": "stdout",
     "output_type": "stream",
     "text": [
      "[(\"i do n't\", 202), (\"do n't know\", 101), (\"i ca n't\", 76), (\"i 'm not\", 66), ('oh my god', 65), (\"i 'm sorry\", 64), (\"you do n't\", 61), ('gon na be', 56), ('what are you', 54), (\"it 's just\", 52), ('what do you', 49), (\"i 'm gon\", 47), (\"'m gon na\", 47), ('you know what', 44), (\"'re gon na\", 41), (\"it 's not\", 37), (\"it 's a\", 36), (\"ca n't believe\", 36), (\"you 're gon\", 31), ('no no no', 30)]\n"
     ]
    },
    {
     "data": {
      "image/png": "[encoded data removed]",
      "text/plain": [
       "<Figure size 432x288 with 1 Axes>"
      ]
     },
     "metadata": {},
     "output_type": "display_data"
    }
   ],
   "source": [
    "\n",
    "def plot_ngram(N, top_n):\n",
    "    cnt = analyze_ngrams(N, sentences)\n",
    "    topn_list = cnt.most_common(top_n)\n",
    "    topn_words = [each[0] for each in topn_list]\n",
    "    print(topn_list)\n",
    "    topn_nums = [each[1] for each in topn_list]\n",
    "    # print(topn_nums)\n",
    "    \n",
    "    df = pd.DataFrame(dict(top_words=topn_words, topn_nums=topn_nums))\n",
    "    g = sns.barplot(x=\"topn_nums\", y=\"top_words\", data=df)\n",
    "    g.set_title('top %s %s grams' % (top_n, N))\n",
    "    \n",
    "    \n",
    "plot_ngram(3, 20)\n"
   ]
  },
  {
   "cell_type": "code",
   "execution_count": 23,
   "metadata": {
    "collapsed": true
   },
   "outputs": [
    {
     "name": "stdout",
     "output_type": "stream",
     "text": [
      "[(\"i do n't know\", 92), (\"i 'm gon na\", 47), (\"i ca n't believe\", 34), (\"you 're gon na\", 31), ('what are you doing', 23), ('are you gon na', 22), (\"what 's going on\", 19), (\"do n't want to\", 17), ('the one with the', 16), (\"ca n't believe you\", 15)]\n"
     ]
    },
    {
     "data": {
      "image/png": "[encoded data removed]",
      "text/plain": [
       "<Figure size 432x288 with 1 Axes>"
      ]
     },
     "metadata": {},
     "output_type": "display_data"
    }
   ],
   "source": [
    "plot_ngram(4, 10)"
   ]
  },
  {
   "cell_type": "code",
   "execution_count": 24,
   "metadata": {
    "collapsed": true
   },
   "outputs": [
    {
     "name": "stdout",
     "output_type": "stream",
     "text": [
      "[(\"i ca n't believe you\", 15), (\"i 'm gon na be\", 12), ('what are you gon na', 10), (\"i do n't know what\", 10), (\"i do n't want to\", 9), (\"i 'm gon na go\", 9), (\"you 're gon na be\", 9), ('la la la la la', 9), ('what are you doing here', 9), ('are you gon na do', 6)]\n"
     ]
    },
    {
     "data": {
      "image/png": "[encoded data removed]",
      "text/plain": [
       "<Figure size 432x288 with 1 Axes>"
      ]
     },
     "metadata": {},
     "output_type": "display_data"
    }
   ],
   "source": [
    "plot_ngram(5, 10)"
   ]
  },
  {
   "cell_type": "markdown",
   "metadata": {},
   "source": [
    "### Sentence length."
   ]
  },
  {
   "cell_type": "code",
   "execution_count": 6,
   "metadata": {
    "collapsed": true
   },
   "outputs": [
    {
     "ename": "NameError",
     "evalue": "name 'sentences' is not defined",
     "output_type": "error",
     "traceback": [
      "\u001b[1;31m---------------------------------------------------------------------------\u001b[0m",
      "\u001b[1;31mNameError\u001b[0m                                 Traceback (most recent call last)",
      "\u001b[1;32m<ipython-input-6-204776db25e0>\u001b[0m in \u001b[0;36m<module>\u001b[1;34m()\u001b[0m\n\u001b[0;32m      2\u001b[0m \u001b[1;33m\u001b[0m\u001b[0m\n\u001b[0;32m      3\u001b[0m \u001b[1;33m\u001b[0m\u001b[0m\n\u001b[1;32m----> 4\u001b[1;33m \u001b[0mlength_list\u001b[0m \u001b[1;33m=\u001b[0m \u001b[1;33m[\u001b[0m\u001b[0mlen\u001b[0m\u001b[1;33m(\u001b[0m\u001b[0ms\u001b[0m\u001b[1;33m)\u001b[0m \u001b[1;32mfor\u001b[0m \u001b[0ms\u001b[0m \u001b[1;32min\u001b[0m \u001b[0msentences\u001b[0m\u001b[1;33m]\u001b[0m\u001b[1;33m\u001b[0m\u001b[0m\n\u001b[0m\u001b[0;32m      5\u001b[0m \u001b[0mdf\u001b[0m \u001b[1;33m=\u001b[0m \u001b[0mpd\u001b[0m\u001b[1;33m.\u001b[0m\u001b[0mDataFrame\u001b[0m\u001b[1;33m(\u001b[0m\u001b[0mdict\u001b[0m\u001b[1;33m(\u001b[0m\u001b[0mlength\u001b[0m\u001b[1;33m=\u001b[0m\u001b[0mlength_list\u001b[0m\u001b[1;33m,\u001b[0m \u001b[0msentence\u001b[0m\u001b[1;33m=\u001b[0m\u001b[0msentences\u001b[0m\u001b[1;33m)\u001b[0m\u001b[1;33m)\u001b[0m\u001b[1;33m\u001b[0m\u001b[0m\n\u001b[0;32m      6\u001b[0m \u001b[1;33m\u001b[0m\u001b[0m\n",
      "\u001b[1;31mNameError\u001b[0m: name 'sentences' is not defined"
     ]
    }
   ],
   "source": [
    "import random\n",
    "\n",
    "\n",
    "length_list = [len(s) for s in sentences]\n",
    "df = pd.DataFrame(dict(length=length_list, sentence=sentences))\n",
    "\n",
    "\n",
    "def define_len_range(x):\n",
    "    len_range = ''\n",
    "    if x <= 10:\n",
    "        len_range = '[0, 10]'\n",
    "    elif x > 10 and x <= 20:\n",
    "        len_range = '(10,20]'\n",
    "    elif x > 20 and x <= 30:\n",
    "        len_range = '(20,30]'\n",
    "    elif x > 30 and x <= 40:\n",
    "        len_range = '(30,40]'\n",
    "    elif x > 40 and x <= 50:\n",
    "        len_range = '(40,50]'\n",
    "    else:\n",
    "        len_range = '[50,999)'\n",
    "    return len_range\n",
    "\n",
    "df['len_range'] = df.length.apply(define_len_range)\n",
    "print(df['len_range'].value_counts())\n",
    "\n",
    "\n",
    "long_sents = list(df[df.length >= 30].sentence)\n",
    "print('below are some of the sentences that has more than 30 words')\n",
    "for s in random.sample(long_sents, 5):\n",
    "    print(' '.join(s))"
   ]
  },
  {
   "cell_type": "markdown",
   "metadata": {},
   "source": []
  }
 ],
 "metadata": {
  "kernelspec": {
   "display_name": "Python 3",
   "language": "python",
   "name": "python3"
  },
  "language_info": {
   "codemirror_mode": {
    "name": "ipython",
    "version": 3
   },
   "file_extension": ".py",
   "mimetype": "text/x-python",
   "name": "python",
   "nbconvert_exporter": "python",
   "pygments_lexer": "ipython3",
   "version": "3.7.0"
  }
 },
 "nbformat": 4,
 "nbformat_minor": 1
}
