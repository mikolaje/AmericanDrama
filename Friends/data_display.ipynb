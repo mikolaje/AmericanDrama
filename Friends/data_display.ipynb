{
 "cells": [
  {
   "cell_type": "code",
   "execution_count": 36,
   "metadata": {
    "collapsed": true
   },
   "outputs": [],
   "source": [
    "from collections import Counter\n",
    "from nltk import ngrams\n",
    "import io\n",
    "import spacy\n",
    "nlp = spacy.load('en', disable=['parser'])\n",
    "\n",
    "import matplotlib.pyplot as plt\n",
    "%matplotlib inline\n",
    "\n"
   ]
  },
  {
   "cell_type": "code",
   "execution_count": 40,
   "metadata": {
    "collapsed": true
   },
   "outputs": [],
   "source": [
    "words_list = []\n",
    "\n",
    "\n",
    "def get_words_list_season(season):\n",
    "    with io.open(r'FrendsWordsAnalysis/filtered_subtitles/s%s/s%s_all.txt' % (season, season), 'r', encoding='u8') as f:\n",
    "        for line in f:\n",
    "            zh, en = line.split('\\b0\\b1\\b2---')\n",
    "            doc = nlp(en)\n",
    "            for token in doc:\n",
    "                if token.is_punct == False and token.is_space == False:\n",
    "                    words_list.append(token.text.lower())\n",
    "\n",
    "                \n",
    "get_words_list_season('01')"
   ]
  },
  {
   "cell_type": "markdown",
   "metadata": {},
   "source": [
    "## N-grams"
   ]
  },
  {
   "cell_type": "code",
   "execution_count": 41,
   "metadata": {
    "collapsed": true
   },
   "outputs": [],
   "source": [
    "def analyze_ngram_season(n):\n",
    "    \n",
    "    ngrams_result = ngrams(words_list, n)\n",
    "    cnt = Counter(ngrams_result)\n",
    "    key_to_del = []\n",
    "    for k in cnt.keys():\n",
    "        # remove the key where all the elements are the same. su\n",
    "        s = set(k)\n",
    "        if len(s) == 1:\n",
    "            key_to_del.append(k)\n",
    "    for key in key_to_del:\n",
    "        del cnt[key]\n",
    "\n",
    "    print(cnt.most_common(50))\n",
    "    return cnt "
   ]
  },
  {
   "cell_type": "markdown",
   "metadata": {},
   "source": [
    "## drawing plot by matplotlib"
   ]
  },
  {
   "cell_type": "heading",
   "metadata": {},
   "level": 3,
   "source": []
  },
  {
   "cell_type": "code",
   "execution_count": 43,
   "metadata": {
    "collapsed": false
   },
   "outputs": [
    {
     "name": "stdout",
     "output_type": "stream",
     "text": [
      "[(('i', 'do', \"n't\"), 202), (('do', \"n't\", 'know'), 101), (('i', 'ca', \"n't\"), 76), (('oh', 'my', 'god'), 66), (('i', \"'m\", 'not'), 66), (('i', \"'m\", 'sorry'), 64), (('you', 'do', \"n't\"), 61), (('gon', 'na', 'be'), 56), (('what', 'are', 'you'), 55), (('it', \"'s\", 'just'), 52), (('what', 'do', 'you'), 50), (('i', \"'m\", 'gon'), 47), ((\"'m\", 'gon', 'na'), 47), (('you', 'know', 'what'), 45), ((\"'re\", 'gon', 'na'), 41), (('you', 'know', 'i'), 38), (('it', \"'s\", 'not'), 37), (('it', \"'s\", 'a'), 36), (('ca', \"n't\", 'believe'), 36), (('i', 'know', 'i'), 32), (('you', \"'re\", 'gon'), 31), (('do', \"n't\", 'have'), 28), (('you', \"'re\", 'not'), 27), (('you', 'gon', 'na'), 27), (('are', 'you', 'doing'), 27), (('i', \"'m\", 'fine'), 27), (('do', 'you', 'think'), 26), (('you', 'know', 'it'), 26), (('no', 'i', \"'m\"), 26), (('do', \"n't\", 'want'), 25), (('it', \"'s\", 'like'), 25), ((\"'s\", 'gon', 'na'), 25), (('do', \"n't\", 'think'), 25), (('all', 'right', 'i'), 25), (('i', 'did', \"n't\"), 24), (('no', 'it', \"'s\"), 24), (('are', 'you', 'gon'), 23), (('know', 'it', \"'s\"), 23), ((\"n't\", 'want', 'to'), 21), (('you', \"'re\", 'a'), 21), (('that', \"'s\", 'it'), 21), (('i', \"'m\", 'just'), 21), (('i', \"'ve\", 'got'), 21), (('the', 'one', 'with'), 21), (('okay', 'i', \"'m\"), 21), (('i', \"'ve\", 'been'), 21), (('think', 'it', \"'s\"), 20), (('yeah', 'i', \"'m\"), 20), (('you', 'ca', \"n't\"), 20), (('all', 'right', 'all'), 20)]"
     ]
    },
    {
     "name": "stdout",
     "output_type": "stream",
     "text": [
      "\n"
     ]
    },
    {
     "name": "stdout",
     "output_type": "stream",
     "text": [
      "[\"i do n't\", \"do n't know\", \"i ca n't\", 'oh my god', \"i 'm not\", \"i 'm sorry\", \"you do n't\", 'gon na be', 'what are you', \"it 's just\", 'what do you', \"i 'm gon\", \"'m gon na\", 'you know what', \"'re gon na\"]"
     ]
    },
    {
     "name": "stdout",
     "output_type": "stream",
     "text": [
      "\n"
     ]
    },
    {
     "data": {
      "image/png": "[encoded data removed]",
      "text/plain": [
       "<Figure size 432x288 with 1 Axes>"
      ]
     },
     "metadata": {},
     "output_type": "display_data"
    }
   ],
   "source": [
    "\n",
    "def plot_barh(N, top_n):\n",
    "    cnt = analyze_ngram_season(N)\n",
    "    topn_list = cnt.most_common(top_n)\n",
    "    topn_link_tokens = [' '.join(x[0]) for x in topn_list]\n",
    "    print(topn_link_tokens)\n",
    "    topn_num = [x[1] for x in topn_list]\n",
    "    y_pos = range(len(topn_link_tokens))\n",
    "    fig, ax = plt.subplots()\n",
    "    ax.barh(y_pos, topn_num, color='red', align='center')\n",
    "    ax.set_yticks(y_pos)\n",
    "    ax.set_yticklabels(topn_link_tokens)\n",
    "    ax.invert_yaxis()\n",
    "    ax.set_xlabel('N-gram   n=%s' % N)\n",
    "    ax.set_title(\"top %s link words in Friends\"% top_n, fontsize=14)\n",
    "\n",
    "N = 5; top_n = 10\n",
    "plot_barh(3, 15)\n"
   ]
  },
  {
   "cell_type": "code",
   "execution_count": null,
   "metadata": {},
   "outputs": [],
   "source": []
  }
 ],
 "metadata": {
  "kernelspec": {
   "display_name": "Python 2",
   "language": "python",
   "name": "python2"
  },
  "language_info": {
   "codemirror_mode": {
    "name": "ipython",
    "version": 2
   },
   "file_extension": ".py",
   "mimetype": "text/x-python",
   "name": "python",
   "nbconvert_exporter": "python",
   "pygments_lexer": "ipython2",
   "version": "2.7.6"
  }
 },
 "nbformat": 4,
 "nbformat_minor": 0
}
